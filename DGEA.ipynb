{
 "cells": [
  {
   "cell_type": "markdown",
   "metadata": {},
   "source": [
    "# homework 07: Wiggins' lost labels\n",
    "You're still sorting out the mess that poor Wiggins left behind when he quit the lab. In another set of experiments he was doing, it looks like he had isolated a mutant sand mouse in a screen, and characterized the mutation's effect on overall gene expression in RNA-seq experiments. He did two sets of three replicates on wild type control mice, and one set of three replicates on his mutant sand mice. But unfortunately, he mislabeled the files and lost track of which was which. He's still not responding to your emails, so you're going to have to do some more detective work."
   ]
  },
  {
   "cell_type": "markdown",
   "metadata": {},
   "source": [
    "**1. write a python function to run an external edgeR analysis**\n",
    "\n",
    "Write a python function that takes the name of an input counts file as an argument (and any other arguments you need), and returns the results of an edgeR analysis: gene names, log fold changes, log CPM, P-values, and FDRs (and any other data you find you want to return).\n",
    "\n",
    "You can use the poor hacker's style: have your python script write an R script to a file, run the R script externally with Rscript (see hints), and parse the resulting output file.\n",
    "\n",
    "Use the same edgeR analysis steps that Wiggins' analyze_W.r script used.\n"
   ]
  },
  {
   "cell_type": "code",
   "execution_count": 1,
   "metadata": {},
   "outputs": [],
   "source": [
    "import numpy as np\n",
    "import pandas as pd\n",
    "import matplotlib.pyplot as plt\n"
   ]
  },
  {
   "cell_type": "markdown",
   "metadata": {},
   "source": [
    "Here we will write to a new file, and then run the r script using ! Rscript command to extract the values we want. Once we have done this we will save our data onto a df in pandas and do the next steps there: "
   ]
  },
  {
   "cell_type": "code",
   "execution_count": 2,
   "metadata": {},
   "outputs": [],
   "source": [
    "# takes file name as input, outputs df containing gene names, log fold changes, log CPM, P-values, and FDRs\n",
    "\n",
    "def edger_reader(file):\n",
    "    f = open('new.r', 'w')\n",
    "    f.write('library(edgeR)\\n')\n",
    "    f.write('infile     <- \"' + file + '\"\\n')\n",
    "    f.write('group      <- factor(c(1,1,1,2,2,2))\\n')\n",
    "    f.write('outfile    <- \"myresult.out\"\\n')\n",
    "    f.write('x     <- read.table(infile, sep=\\'\\\\t\\', row.names=1)\\n')\n",
    "    f.write('y     <- DGEList(counts=x,group=group)\\n')\n",
    "    f.write('y     <- estimateDisp(y)\\n')\n",
    "    f.write('et    <- exactTest(y)\\n')\n",
    "    f.write('tab   <- topTags(et, nrow(x))\\n')\n",
    "    f.write('write.table(tab, file=outfile)\\n')\n",
    "    # closing our file\n",
    "    f.close()\n",
    "\n",
    "    # using the Rscript command to run the R file we just made\n",
    "    ! Rscript new.r\n",
    "    \n",
    "    # Store in a pandas df, as it will make the parsing through the data easier\n",
    "    df_data = pd.read_table('myresult.out', delim_whitespace=True)\n",
    "\n",
    "    # Return the data frame we created with all the values\n",
    "    return df_data\n"
   ]
  },
  {
   "cell_type": "markdown",
   "metadata": {},
   "source": [
    "**2. reproduce Wiggins' data, assign the missing labels**\n",
    "\n",
    "There are three possible combinations of Wiggins' data files: (1,2), (1,3), or (2,3). Using your Python function for running his edgeR analysis, run all three analyses.\n"
   ]
  },
  {
   "cell_type": "markdown",
   "metadata": {},
   "source": [
    "Here we will join the three datafiles provided into the three specified combinations: (1,2), (1,3), and (2,3). Then these three joined data files will be run through the edge_R function we dfined above.\n"
   ]
  },
  {
   "cell_type": "markdown",
   "metadata": {},
   "source": [
    "Here we start with data files 1 and 2:\n",
    "\n",
    "Now we find the p-values < 0.05, which is our treshold, in the data frame. The result is our number of differentially expressed genes (at that treshold).\n",
    "\n",
    "You can change the treshold of P-values to get different results."
   ]
  },
  {
   "cell_type": "code",
   "execution_count": 3,
   "metadata": {},
   "outputs": [
    {
     "name": "stdout",
     "output_type": "stream",
     "text": [
      "Loading required package: limma\n",
      "Design matrix not provided. Switch to the classic mode.\n"
     ]
    },
    {
     "data": {
      "text/plain": [
       "(2246, 4)"
      ]
     },
     "execution_count": 3,
     "metadata": {},
     "output_type": "execute_result"
    }
   ],
   "source": [
    "# joining data files 1 and 2\n",
    "! join -t $'\\t' w07-data.1.txt w07-data.2.txt > df_12_pre\n",
    "\n",
    "# running edge r analysis on newly merged file and storing it:\n",
    "df_12 = edger_reader('df_12_pre')\n",
    "\n",
    "p_12 = df_12[df_12['PValue']<0.05]\n",
    "\n",
    "p_12.shape"
   ]
  },
  {
   "cell_type": "markdown",
   "metadata": {},
   "source": [
    "Doing the same for data files 1 and 3:\n",
    "\n",
    "also finding the differentially expressed genes at the given p-value treshold:"
   ]
  },
  {
   "cell_type": "code",
   "execution_count": 4,
   "metadata": {},
   "outputs": [
    {
     "name": "stdout",
     "output_type": "stream",
     "text": [
      "Loading required package: limma\n",
      "Design matrix not provided. Switch to the classic mode.\n"
     ]
    },
    {
     "data": {
      "text/plain": [
       "(988, 4)"
      ]
     },
     "execution_count": 4,
     "metadata": {},
     "output_type": "execute_result"
    }
   ],
   "source": [
    "# joining data files 1 and 3\n",
    "! join -t $'\\t' w07-data.1.txt w07-data.3.txt > df_13_pre\n",
    "\n",
    "# running edge r analysis on newly merged file and storing it:\n",
    "df_13 = edger_reader('df_13_pre')\n",
    "\n",
    "p_13 = df_13[df_13['PValue']<0.05]\n",
    "\n",
    "p_13.shape"
   ]
  },
  {
   "cell_type": "markdown",
   "metadata": {},
   "source": [
    "And for data files 2 and 3:\n",
    "\n",
    "also finding the differentially expressed genes at the given p-value treshold:"
   ]
  },
  {
   "cell_type": "code",
   "execution_count": 5,
   "metadata": {},
   "outputs": [
    {
     "name": "stdout",
     "output_type": "stream",
     "text": [
      "Loading required package: limma\n",
      "Design matrix not provided. Switch to the classic mode.\n"
     ]
    },
    {
     "data": {
      "text/plain": [
       "(2312, 4)"
      ]
     },
     "execution_count": 5,
     "metadata": {},
     "output_type": "execute_result"
    }
   ],
   "source": [
    "# joining data files 2 and 3\n",
    "! join -t $'\\t' w07-data.2.txt w07-data.3.txt > df_23_pre\n",
    "\n",
    "# running edge r analysis on newly merged file and storing it:\n",
    "df_23 = edger_reader('df_23_pre')\n",
    "\n",
    "# p-values <0.05\n",
    "p_23 = df_23[df_23['PValue']<0.05]\n",
    "\n",
    "p_23.shape"
   ]
  },
  {
   "cell_type": "markdown",
   "metadata": {},
   "source": [
    "**Which combination did he run to obtain his result of 2246 differentially expressed genes significant at P<0.05?**\n"
   ]
  },
  {
   "cell_type": "markdown",
   "metadata": {},
   "source": [
    "this was obtained by running the combination of data file 1 and 2, as seen in our analysis above."
   ]
  },
  {
   "cell_type": "markdown",
   "metadata": {},
   "source": [
    "**Which of the three files corresponds to the mutant sand mouse samples? Why?**\n"
   ]
  },
  {
   "cell_type": "markdown",
   "metadata": {},
   "source": [
    "It would be data set 2, since it is \"differentially expressed\" when compared to to the wildtype datasets 1 and 3.\n",
    "A big hint for this is that, when we run the edge_R analysis for the merged data files 1 and 3, our result is 988 differentially expressed genes, which is a close enough approximation of the 1,000 differentially expressed genes we would expect to see in a pool of 20,000 genes (which is what our datafiles contain).\n",
    "\n",
    "This is perfetly predicted by the p-value probabilities since 20,000 genes * 0.05 significant ones = 1,000 genes.\n",
    "The two other combinations of files yield numbers of genes around twice as large as this calculation.\n"
   ]
  },
  {
   "cell_type": "markdown",
   "metadata": {},
   "source": [
    "**3. Wiggins doesn't understand p-values**\n",
    "\n",
    "**Do you agree with Wiggins' conclusion that 2246 genes are differentially expressed in that wt vs. mutant comparison? What did he fail to do?**\n",
    "**Give a different conclusion of your own -- what is a more appropriate statistical cutoff, and how many genes are called differentially expressed at your threshold?**"
   ]
  },
  {
   "cell_type": "markdown",
   "metadata": {},
   "source": [
    "Wiggins' conclusion seems to be wrong in that he does not understand that p-values are a measure for a single sample, not for three. \n",
    "\n",
    "Also, using 0.05 as a treshold actually turns out to be pretty lenient. A better way to do this might be to also consider the FDR treshold, along a stricter p-value treshold. We might expect to find a low number of differentially expressed genes being outputted by  data set 2 (files 1,3) when we do that.\n",
    "\n",
    "Below, we will experiment with using a standard 0.05 FDR treshold as well as a very small one. We expect FDR to out-preform p-values in accuracy.\n",
    "\n",
    "The FDR coems from the Benjamini procedure, which ranks genes based on p-values and then rejects based on a condition (https://en.wikipedia.org/wiki/False_discovery_rate)"
   ]
  },
  {
   "cell_type": "code",
   "execution_count": 6,
   "metadata": {},
   "outputs": [
    {
     "data": {
      "text/plain": [
       "74"
      ]
     },
     "execution_count": 6,
     "metadata": {},
     "output_type": "execute_result"
    }
   ],
   "source": [
    "# show the genes at which the FDR < 0.05\n",
    "fdr_12_a = df_12[df_12['FDR']<0.05]\n",
    "len(fdr_12_a)"
   ]
  },
  {
   "cell_type": "code",
   "execution_count": 7,
   "metadata": {},
   "outputs": [
    {
     "data": {
      "text/plain": [
       "50"
      ]
     },
     "execution_count": 7,
     "metadata": {},
     "output_type": "execute_result"
    }
   ],
   "source": [
    "# now show the genes at which the FDR < 0.001\n",
    "fdr_12_b = df_12[df_12['FDR']<0.0001]\n",
    "len(fdr_12_b)"
   ]
  },
  {
   "cell_type": "markdown",
   "metadata": {},
   "source": [
    "We observe that, in fact, with the FDR < 0.05 as treshold, we only get 74 differentially expressed genes.\n",
    "With FDR < 0.0001 we get even less (50). I also ran for 0.001 and it gave me 51, which means we are getting close to converging on a final number."
   ]
  },
  {
   "cell_type": "markdown",
   "metadata": {},
   "source": [
    "**4. Wiggins missed something else too**\n",
    "\n",
    "Wiggins' analysis has a subtler problem. It's missing an important step in the edgeR analysis pipeline, and it just happens (!) that this example exercises exactly the problem that that edgeR step is designed to deal with. Find it and fix it -- you'll need to add one step in the R analysis script -- and rerun the analysis. \n",
    "\n",
    "Now how many genes do you think are differentially expressed? What was the problem? (see hints)"
   ]
  },
  {
   "cell_type": "markdown",
   "metadata": {},
   "source": [
    "The subtle problem is that Wiggins did not normalize using TMM in his script to do edge r. This is problematic because it solves the issue of the normalization of indirect effects.\n",
    "\n",
    "RNA seq experiments will consider the relative abundances within a sample, which depend on other genes, instead of the absolute abundances. Having some over-expressed genes will thus affect the results since the other genes will be made to look as if they were under-expressed. This could incorrectly pass as a stat significant change, even though it's not.\n",
    "\n",
    "Instead we want our analysis to measure the direct effects that are stat significant and not the indirect effects that are \"noise\".\n",
    "Using TMM helps us to normalize by considering the abrnomally expressed genes and thus we get a lower number of \"differentially expressed\" genes as a result.\n",
    "\n",
    "From reading the edge R manual, I learned that it works with the assumption that most genes are not diff expressed across our various samples, and then minimizes the number of genes with expression differences. Then it finds an adequate library size for this.\n",
    "\n",
    "We now will see how out new reader function works by adding the TMM step:"
   ]
  },
  {
   "cell_type": "markdown",
   "metadata": {},
   "source": [
    "Re-running with this modification in mind:"
   ]
  },
  {
   "cell_type": "code",
   "execution_count": 8,
   "metadata": {},
   "outputs": [],
   "source": [
    "def edger_reader(file):\n",
    "    f = open('new.r', 'w')\n",
    "    f.write('library(edgeR)\\n')\n",
    "    f.write('infile     <- \"' + file + '\"\\n')\n",
    "    f.write('group      <- factor(c(1,1,1,2,2,2))\\n')\n",
    "    f.write('outfile    <- \"myresult.out\"\\n')\n",
    "    f.write('x     <- read.table(infile, sep=\\'\\\\t\\', row.names=1)\\n')\n",
    "    f.write('y     <- DGEList(counts=x,group=group)\\n')\n",
    "    f.write('y     <- calcNormFactors(y)\\n')    # this is our newly added line to do TMM\n",
    "    f.write('y     <- estimateDisp(y)\\n')\n",
    "    f.write('et    <- exactTest(y)\\n')\n",
    "    f.write('tab   <- topTags(et, nrow(x))\\n')\n",
    "    f.write('write.table(tab, file=outfile)\\n')\n",
    "    # closing our file\n",
    "    f.close()\n",
    "\n",
    "    # using the Rscript command to run the R file we just made\n",
    "    ! Rscript new.r\n",
    "    \n",
    "    # Store in a pandas df, as it will make the parsing through the data easier\n",
    "    df_data = pd.read_table('myresult.out', delim_whitespace=True)\n",
    "\n",
    "    # Return the data frame we created with all the values\n",
    "    return df_data\n"
   ]
  },
  {
   "cell_type": "markdown",
   "metadata": {},
   "source": [
    "Repeat the steps from the previous question to run this new version of edger_reader using our additional TMM step:"
   ]
  },
  {
   "cell_type": "code",
   "execution_count": 9,
   "metadata": {},
   "outputs": [
    {
     "name": "stdout",
     "output_type": "stream",
     "text": [
      "Loading required package: limma\n",
      "Design matrix not provided. Switch to the classic mode.\n"
     ]
    }
   ],
   "source": [
    "tmm_12 = edger_reader('df_12_pre')"
   ]
  },
  {
   "cell_type": "markdown",
   "metadata": {},
   "source": [
    "Analyze this df using the cutoffs for FDR at < 0.05, 0.01 and 0.001"
   ]
  },
  {
   "cell_type": "code",
   "execution_count": 10,
   "metadata": {},
   "outputs": [
    {
     "data": {
      "text/plain": [
       "53"
      ]
     },
     "execution_count": 10,
     "metadata": {},
     "output_type": "execute_result"
    }
   ],
   "source": [
    "# show the genes at which the FDR < 0.05\n",
    "fdr_12_a = tmm_12[tmm_12['FDR']<0.05]\n",
    "len(fdr_12_a)"
   ]
  },
  {
   "cell_type": "code",
   "execution_count": 11,
   "metadata": {},
   "outputs": [
    {
     "data": {
      "text/plain": [
       "51"
      ]
     },
     "execution_count": 11,
     "metadata": {},
     "output_type": "execute_result"
    }
   ],
   "source": [
    "# show the genes at which the FDR < 0.05\n",
    "fdr_12_b = tmm_12[tmm_12['FDR']<0.01]\n",
    "len(fdr_12_b)"
   ]
  },
  {
   "cell_type": "code",
   "execution_count": 12,
   "metadata": {},
   "outputs": [
    {
     "data": {
      "text/plain": [
       "51"
      ]
     },
     "execution_count": 12,
     "metadata": {},
     "output_type": "execute_result"
    }
   ],
   "source": [
    "# show the genes at which the FDR < 0.05\n",
    "fdr_12_c = tmm_12[tmm_12['FDR']<0.001]\n",
    "len(fdr_12_b)"
   ]
  },
  {
   "cell_type": "markdown",
   "metadata": {},
   "source": [
    "As predicted, we see a decrease in the number of differentially expressed genes when using this FDR cutoff here with the TMM addition.\n",
    "\n",
    "Before including TMM we had an ouput of 74 diff epressed genes and now we have an output of 53.\n",
    "\n",
    "This translate to a more accurate and efficient way of analyzing stat significance."
   ]
  },
  {
   "cell_type": "raw",
   "metadata": {},
   "source": [
    "For the last part, we look at the logfold changes. the problem is that they are currently increased or decreases for certain genes.\n",
    "\n",
    "We plot here to illustrate this point:"
   ]
  },
  {
   "cell_type": "code",
   "execution_count": 16,
   "metadata": {},
   "outputs": [
    {
     "data": {
      "image/png": "[encoded data removed]",
      "text/plain": [
       "<Figure size 432x288 with 1 Axes>"
      ]
     },
     "metadata": {
      "needs_background": "light"
     },
     "output_type": "display_data"
    }
   ],
   "source": [
    "# Scatter plot comparing log fold changes to FDR\n",
    "plt.scatter(fdr_12_c.logFC, fdr_12_c.FDR)\n",
    "plt.xlabel('log FC')\n",
    "plt.ylabel('FDR')\n",
    "plt.yscale('log')"
   ]
  },
  {
   "cell_type": "code",
   "execution_count": 19,
   "metadata": {},
   "outputs": [
    {
     "data": {
      "image/png": "[encoded data removed]",
      "text/plain": [
       "<Figure size 432x288 with 1 Axes>"
      ]
     },
     "metadata": {
      "needs_background": "light"
     },
     "output_type": "display_data"
    }
   ],
   "source": [
    "# Scatter plot comparing log fold changes to p-values\n",
    "plt.scatter(fdr_12_c.logFC, fdr_12_c.PValue)\n",
    "plt.xlabel('log FC')\n",
    "plt.ylabel('FDR')\n",
    "plt.yscale('log')"
   ]
  },
  {
   "cell_type": "markdown",
   "metadata": {},
   "source": [
    "From the two scatterplots above we conclude the following:\n",
    "\n",
    "In the second plot, there is a correlation between the highest p-values and a low log fold score. The first plot is similar, where high FDR seems to correlate with low logFC (pretty linearly).\n",
    "\n",
    "There are some genes in the data that are over-expressed, and as discussed above, throw off the relative abundance data.\n"
   ]
  },
  {
   "cell_type": "code",
   "execution_count": null,
   "metadata": {},
   "outputs": [],
   "source": []
  }
 ],
 "metadata": {
  "kernelspec": {
   "display_name": "Python 3",
   "language": "python",
   "name": "python3"
  },
  "language_info": {
   "codemirror_mode": {
    "name": "ipython",
    "version": 3
   },
   "file_extension": ".py",
   "mimetype": "text/x-python",
   "name": "python",
   "nbconvert_exporter": "python",
   "pygments_lexer": "ipython3",
   "version": "3.8.3"
  }
 },
 "nbformat": 4,
 "nbformat_minor": 4
}
