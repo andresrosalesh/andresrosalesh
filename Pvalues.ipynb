{
 "cells": [
  {
   "cell_type": "markdown",
   "metadata": {},
   "source": [
    "# homework 06: Student's game night\n"
   ]
  },
  {
   "cell_type": "code",
   "execution_count": null,
   "metadata": {},
   "outputs": [],
   "source": [
    "# Importing all the packages we might need:\n",
    "\n",
    "import numpy as np\n",
    "import sys\n",
    "import math\n",
    "import seaborn as sns\n",
    "import matplotlib.pyplot as plt\n",
    "import numpy.random as rand\n",
    "import scipy.stats as stats\n",
    "import scipy.misc as misc\n",
    "from scipy.special import logsumexp # for log probabilities "
   ]
  },
  {
   "cell_type": "markdown",
   "metadata": {},
   "source": [
    "**1. the beginner's game**\n",
    "\n",
    "Write a script that:\n",
    "\n",
    "takes n observations xi..xn and one of the 20 possible values of σ (i.e. a known row, specified by Student) as input.\n",
    "\n",
    "calculates the posterior probability P(μ∣xi..xn,σ) for each of the 21 possible values of μ on that grid row. Remember that the prior P(μ) is uniform.\n",
    "\n",
    "plots that distribution on a semilog scale (so you can see differences in the small-probability tail more easily), using the semilogy plot of matplotlib for example.\n",
    "\n",
    "and plots the pub's calculated probability distribution on the same semilog plot, so you can compare.\n",
    "\n",
    "You can use this script, which implements Student's game, to generate data (and σ) to try your analysis out, for varying numbers of samples, especially small n (3-6).\n",
    "\n",
    "Have your script show the plots for the X = [ 11.50, -2.32, 9.18], true_sigma = 60. example."
   ]
  },
  {
   "cell_type": "markdown",
   "metadata": {},
   "source": [
    "It is said that Student uniformly samples μ and σ, which means each μ and σ have the same chance of being picked (he throws a dart with uniform probability).\n",
    "\n",
    "We begin by setting the parameters specified in the problem and creating the grid:\n",
    "\n",
    "\n",
    "\n",
    "For this first game, we have a number n of samples, and a random σ (which is the same as the row number)."
   ]
  },
  {
   "cell_type": "code",
   "execution_count": null,
   "metadata": {},
   "outputs": [],
   "source": [
    "# Set up the x and y coords\n",
    "gridrows = np.linspace( 100.0,   5.0, 20)   # rows of the board: std. dev., sigma\n",
    "gridcols = np.linspace(-100.,  100.0, 21)   # cols of the board: mean (location), mu\n",
    "nrows = len(gridrows)\n",
    "ncols = len(gridcols)\n",
    "\n",
    "# Set up a pseudo-random integer generator:\n",
    "seed = np.random.randint(0,10000)\n",
    "np.random.seed(seed)\n",
    "\n",
    "# Student throws a uniformly distributed dart into the grid, and this\n",
    "# chooses mu, sigma. These values are unknown to the customers.\n",
    "\n",
    "true_row = np.random.randint(0, nrows)    # Note, randint(0,n) samples 0..n-1\n",
    "true_col = np.random.randint(0, ncols)\n",
    "\n",
    "true_sigma = gridrows[true_row]\n",
    "true_mu    = gridcols[true_col]\n",
    "\n",
    "# Student's tea distribution machine drops observed samples onto the\n",
    "# line on the bar: nX of them, X[0..nX-1]\n",
    "\n",
    "X  =  [11.50, -2.32, 9.18] \n",
    "\n",
    "sample_mean  = np.mean(X)\n",
    "sample_stdev = np.std(X, ddof = 1)   ## ddof is \"degrees of freedom\". 0 = population sd; 1 = sample sd."
   ]
  },
  {
   "cell_type": "markdown",
   "metadata": {},
   "source": [
    "After we have written the above, where we specify the number nX of samples and also the randomly picked σ, we now will calculate the posterior probability for each of the 21 possible values of μ on that grid row."
   ]
  },
  {
   "cell_type": "code",
   "execution_count": null,
   "metadata": {},
   "outputs": [],
   "source": [
    "\"\"\" \n",
    "    Takes n observations xi..xn (array X) and one of the 20 possible values of σ \n",
    "    (i.e. a known row, specified by Student) as input.\n",
    "    \n",
    "    returns a list of the inferred P(μ | X,sigma) for each column (μ))\n",
    "\"\"\"\n",
    "\n",
    "def probdist_beginner(X, sigma, mu_values):\n",
    "    \n",
    "    numerators = [] # empty list to store all of the numerators\n",
    "    log_term = np.log(1/ncols)  # log term for 1/21 (probability of each column (μ))\n",
    "    \n",
    "    # Loop through the columns for each mu:\n",
    "    for k in mu_values:\n",
    "        numerator = log_term\n",
    "        for x in X:\n",
    "            numerator = numerator + stats.norm.logpdf(x,k,sigma) # for each one add this term to the numerator\n",
    "        numerators.append(numerator) # add each term; should make a list of 21 numerator terms\n",
    "    denominators = logsumexp(numerators) # this returns the log sum of all the items in the list\n",
    "    posts = np.exp(numerators - denominators) # return the square of the subtraction between the nums and denoms\n",
    " \n",
    "    return posts"
   ]
  },
  {
   "cell_type": "markdown",
   "metadata": {},
   "source": [
    "Calling our function:"
   ]
  },
  {
   "cell_type": "code",
   "execution_count": null,
   "metadata": {},
   "outputs": [],
   "source": [
    "PrB = probdist_beginner([ 11.50, -2.32, 9.18], 60, gridcols)"
   ]
  },
  {
   "cell_type": "markdown",
   "metadata": {},
   "source": [
    "Now that we have our result for the beginner game we will want to compare this with the pub's calculation. In order to plot this we first need to calculate the pub's odds:"
   ]
  },
  {
   "cell_type": "code",
   "execution_count": null,
   "metadata": {},
   "outputs": [],
   "source": [
    "def probdist_beginner_pub(X, sigma, mu_values):\n",
    "    \"\"\" \n",
    "    Given an ndarray X_1..X_n, and a known sigma;\n",
    "    and a list of the mu values in each column;\n",
    "    return a list of the inferred P(mu | X,sigma) for each column.\n",
    "    \"\"\"\n",
    "    xbar = np.mean(X)\n",
    "    N    = len(X)\n",
    "    Pr   = [ stats.norm.pdf(x, loc=xbar, scale=sigma / np.sqrt(N)) for x in mu_values ]  # proportional to std error of the mean\n",
    "    Z    = sum(Pr)                   # normalization constant\n",
    "    Pr   = [ p / Z for p in Pr ]     # normalization to a discrete probability distribution\n",
    "    return Pr"
   ]
  },
  {
   "cell_type": "markdown",
   "metadata": {},
   "source": [
    "Pub's beginner odds function call:"
   ]
  },
  {
   "cell_type": "code",
   "execution_count": null,
   "metadata": {},
   "outputs": [],
   "source": [
    "PrB_pub = probdist_beginner_pub(X, 60, gridcols)"
   ]
  },
  {
   "cell_type": "markdown",
   "metadata": {},
   "source": [
    "Now we plot our beginner distribution next to the pub's to see how they compare using the X = [11.50, -2.32, 9.18], true_sigma = 60 example."
   ]
  },
  {
   "cell_type": "code",
   "execution_count": null,
   "metadata": {},
   "outputs": [],
   "source": [
    "# Set up our graphical display.\n",
    "#\n",
    "# We'll show the pub's supposedly \"fair odds\" probability distribution plot for the\n",
    "# beginner version and the advanced version, as semilog plots.\n",
    "#\n",
    "f, (ax1, ax2) = plt.subplots(2,1, sharey=True)  # figure consists of 2 graphs, 2 rows x 1 col\n",
    "\n",
    "ax1.semilogy(gridcols, PrB_pub, label=\"pub's estimate: beginner (sigma known)\")\n",
    "ax1.xaxis.set_ticks(gridcols)\n",
    "ax1.set(xlabel='$\\mu$', ylabel='$P(\\mu \\mid \\sigma)$')\n",
    "ax1.legend(loc=\"best\")\n",
    "\n",
    "ax2.semilogy(gridcols, PrB, label=\"our estimate: beginner (sigma known)\")\n",
    "ax2.xaxis.set_ticks(gridcols)\n",
    "ax2.set(xlabel='$\\mu$', ylabel='$P(\\mu \\mid \\sigma)$')\n",
    "ax2.legend(loc=\"best\")\n",
    "\n",
    "plt.show()"
   ]
  },
  {
   "cell_type": "markdown",
   "metadata": {},
   "source": [
    "**2. the advanced game**\n",
    "\n",
    "Now write a second script that:\n",
    "\n",
    "just takes n observations xi..xn.\n",
    "\n",
    "calculates the posterior probability P(μ,σ∣xi..xn) for each of the 420 (20x21) possible values of σ,μ on Student's grid.\n",
    "\n",
    "plots that 20x21 posterior distribution as a heat map\n",
    "\n",
    "marginalizes (sum over the rows) to obtain P(μ∣xi..xn):\n",
    "\n",
    "P(μ∣xi..xn)=∑σP(μ,σ∣xi..xn)\n",
    "plots that marginal distribution on a semilog scale;\n",
    "\n",
    "and plots the pub's calculated probability distribution, so you can compare.\n",
    "\n",
    "Again you can use the Student's game script to generate data (and σ) to try your analysis out, for varying numbers of samples, especially small n (3-6).\n",
    "\n",
    "Have your script show the plots for the X = [ 11.50, -2.32, 9.18] example."
   ]
  },
  {
   "cell_type": "markdown",
   "metadata": {},
   "source": [
    "We will use the parameters we already wrote above for the beginner game here too, with the main difference here being that sigma is unknown.\n",
    "\n",
    "Creating our first function for the advanced game where we will calculate the posterior probability for each of the 420 (20x21) possible values of σ,μ on Student's grid.\n",
    "\n",
    "We will also marginalize once here and then again below. \n"
   ]
  },
  {
   "cell_type": "code",
   "execution_count": null,
   "metadata": {},
   "outputs": [],
   "source": [
    "def probdist_advanced(X, sigma_values, mu_values):\n",
    "\n",
    "    posts = np.zeros((len(sigma_values), len(mu_values))) #empty array with 20x21 dimensions\n",
    "    log_term = np.log(1/ncols) + np.log(1/nrows)  # log term for 1/21 + 1/20\n",
    "    \n",
    "    for i in range(len(mu_values)): # mus\n",
    "        for j in range(len(sigma_values)): # sigmas\n",
    "            numerator = log_term  # use our prior here\n",
    "            for x in X: \n",
    "                numerator = numerator + stats.norm.logpdf(x, mu_values[i], sigma_values[j])\n",
    "            posts[j][i] = numerator\n",
    "        \n",
    "    denominators = logsumexp(posts) # sum of the posts\n",
    "    posts = np.exp(posts - denominators) # return the square of the subtraction between the nums and denoms\n",
    "    \n",
    "    marginals = [] # Empty list to store the marginals we calculate below.\n",
    "    \n",
    "    for i in range(len(posts[0,:])): # marginalizing across mus (columns)\n",
    "        marginals.append(np.sum(posts[:,i]))\n",
    "        \n",
    "    return posts, marginals"
   ]
  },
  {
   "cell_type": "markdown",
   "metadata": {},
   "source": [
    "Calling the function for the specified X example:"
   ]
  },
  {
   "cell_type": "code",
   "execution_count": null,
   "metadata": {},
   "outputs": [],
   "source": [
    "posts, marginals = probdist_advanced(X, gridrows, gridcols)"
   ]
  },
  {
   "cell_type": "markdown",
   "metadata": {},
   "source": [
    "Now lets plot that posterior distribution as a heat map using seaborn:"
   ]
  },
  {
   "cell_type": "code",
   "execution_count": null,
   "metadata": {},
   "outputs": [],
   "source": [
    "# \"Data\" are all zeros, with one 1.0 at (5,15)\n",
    "data = posts            # Initializes a numpy \"n-D array\" (ndarray)\n",
    "        \n",
    "# Format axis labels as strings, with values as \"10\" not \"10.0\" for clarity, space\n",
    "xlabels = [ \"{0:.0f}\".format(val) for val in gridcols ]\n",
    "ylabels = [ \"{0:.0f}\".format(val) for val in gridrows ]\n",
    "\n",
    "# the Seaborn \"heatmap\" plot\n",
    "# with some examples of how it can be customized.\n",
    "#\n",
    "ax = sns.heatmap(data,                 # takes a 2D array of data\n",
    "                 xticklabels=xlabels,  #   ... set custom x axis labels\n",
    "                 yticklabels=ylabels,  #   ... set custom y axis labels\n",
    "                 cbar=False,           #   ... turn off the default color scale bar\n",
    "                 square=True,          #   ... force the plot to be square\n",
    "                 linecolor='grey',     #   ... set grid line color\n",
    "                 linewidth=0.5)        #   ... set grid line width\n",
    "\n",
    "# now we have an Axes object that Seaborn returned to us,\n",
    "# and we can do additional customization, like...\n",
    "\n",
    "ax.set(xlabel='$\\mu$',                 # ...set X axis label, using LaTeX formatting\n",
    "       ylabel='$\\sigma$')              # ...and Y axis label\n",
    "for label in ax.get_yticklabels():    \n",
    "    label.set_size(10)                 # ... and font size on y-axis tick labels\n",
    "for label in ax.get_xticklabels():    \n",
    "    label.set_size(10)                 # ... and on x-axis tick labels\n"
   ]
  },
  {
   "cell_type": "markdown",
   "metadata": {},
   "source": [
    "Calling our function we wrote above:"
   ]
  },
  {
   "cell_type": "code",
   "execution_count": null,
   "metadata": {},
   "outputs": [],
   "source": [
    "def probdist_advanced_pub(X, mu_values):\n",
    "    \"\"\" \n",
    "    Given an ndarray X_1..X_n,\n",
    "    and a list of the mu values in each column;\n",
    "    return a list of the inferred P(mu | X) for each column.\n",
    "    \"\"\"\n",
    "    xbar = np.mean(X)\n",
    "    s    = np.std(X, ddof=1)     # note that numpy.sd() by default calculates a population std dev; to get sample std. dev., set ddof=1\n",
    "    N    = len(X)\n",
    "    Pr   = [ stats.norm.pdf(x, loc=xbar, scale= s / np.sqrt(N)) for x in mu_values ]  # proportional to std error of the mean\n",
    "    Z    = sum(Pr)                   # normalization constant\n",
    "    Pr   = [ p / Z for p in Pr ]     # normalization to a discrete probability distribution\n",
    "    return Pr"
   ]
  },
  {
   "cell_type": "markdown",
   "metadata": {},
   "source": [
    "Function call for the pub's advanced game results, once again using the specified parameters:"
   ]
  },
  {
   "cell_type": "code",
   "execution_count": null,
   "metadata": {},
   "outputs": [],
   "source": [
    "PrA_pub = probdist_advanced_pub(X, gridcols)"
   ]
  },
  {
   "cell_type": "markdown",
   "metadata": {},
   "source": [
    "Plotting our results for our advanced game implementation compared to the pub's supposedly \"fair odds\" distribution for the advanced game:"
   ]
  },
  {
   "cell_type": "code",
   "execution_count": null,
   "metadata": {},
   "outputs": [],
   "source": [
    "# Set up our graphical display.\n",
    "#\n",
    "# We'll show the pub's supposedly \"fair odds\" probability distribution plot for the\n",
    "# advanced version compared to our own advanced game odds, as semilog plots.\n",
    "#\n",
    "f, (ax1, ax2) = plt.subplots(2,1, sharey=True)  # figure consists of 2 graphs, 2 rows x 1 col\n",
    "\n",
    "ax1.semilogy(gridcols, PrA_pub, label=\"pub's estimate: advanced (sigma unknown)\")\n",
    "ax1.xaxis.set_ticks(gridcols)\n",
    "ax1.set(xlabel='$\\mu$', ylabel='$P(\\mu)$')\n",
    "ax1.legend(loc=\"best\")\n",
    "\n",
    "ax2.semilogy(gridcols, marginals, label=\"our estimate: advanced (sigma unknown)\")\n",
    "ax2.xaxis.set_ticks(gridcols)\n",
    "ax2.set(xlabel='$\\mu$', ylabel='$P(\\mu)$')\n",
    "ax2.legend(loc=\"best\")\n",
    "\n",
    "plt.show()\n"
   ]
  },
  {
   "cell_type": "markdown",
   "metadata": {},
   "source": [
    "Additionally, we will also compare our results with the t-distribution code the pub should have used.\n",
    "Adding the t-distribution code from the pub to compare with our Bayesian calculation above:"
   ]
  },
  {
   "cell_type": "code",
   "execution_count": null,
   "metadata": {},
   "outputs": [],
   "source": [
    "def probdist_t(X, mu_values):\n",
    "    \"\"\" \n",
    "    Given an ndarray X_1..X_n,\n",
    "    and a list of the mu values in each column;\n",
    "    return a list of the inferred P(mu | X) for each column,\n",
    "    according to Student's t distribution with N-1 degrees of freedom.\n",
    "    \"\"\"\n",
    "    N    = len(X)\n",
    "    xbar = np.mean(X)\n",
    "    s    = np.std(X, ddof=1)\n",
    "    t    = [ (xbar - mu) / (s / np.sqrt(N)) for mu in mu_values ]    # t statistic, given sample mean, sample stddev, and N\n",
    "    #t    = [ stats.ttest_1samp(X, mu)[0] for mu in mu_values ]       # ... (equivalently, python can calculate t statistic for you)\n",
    "    Pr   = [ stats.t.pdf(val, N-1) for val in t ]\n",
    "    Z    = sum(Pr)\n",
    "    Pr   = [ p / Z for p in Pr ]    \n",
    "    return Pr"
   ]
  },
  {
   "cell_type": "markdown",
   "metadata": {},
   "source": [
    "Function call for the pub's t-distribution code odds:"
   ]
  },
  {
   "cell_type": "code",
   "execution_count": null,
   "metadata": {},
   "outputs": [],
   "source": [
    "PrT = probdist_t(X, gridcols)"
   ]
  },
  {
   "cell_type": "markdown",
   "metadata": {},
   "source": [
    "Plotting our results for our advanced game implementation compared to the t-distribution odds:"
   ]
  },
  {
   "cell_type": "code",
   "execution_count": null,
   "metadata": {},
   "outputs": [],
   "source": [
    "f, (ax1, ax2) = plt.subplots(2,1, sharey=True)  # figure consists of 2 graphs, 2 rows x 1 col\n",
    "\n",
    "ax1.semilogy(gridcols, PrT, label=\"pub's t-distribution: advanced (sigma unknown)\")\n",
    "ax1.xaxis.set_ticks(gridcols)\n",
    "ax1.set(xlabel='$\\mu$', ylabel='$P(\\mu)$')\n",
    "ax1.legend(loc=\"best\")\n",
    "\n",
    "ax2.semilogy(gridcols, marginals, label=\"our estimate: advanced (sigma unknown)\")\n",
    "ax2.xaxis.set_ticks(gridcols)\n",
    "ax2.set(xlabel='$\\mu$', ylabel='$P(\\mu)$')\n",
    "ax2.legend(loc=\"best\")\n",
    "\n",
    "plt.show()"
   ]
  },
  {
   "cell_type": "markdown",
   "metadata": {},
   "source": [
    "**3. where's the advantage?**\n",
    "Is the pub calculating its odds correctly? Where do you see an advantage?"
   ]
  },
  {
   "cell_type": "markdown",
   "metadata": {},
   "source": [
    "For the beginner's game, we can see by looking at our graph compared to the pub's graph that we are calculating the odds the same way, even as we increase the sample size. We are also using a normal distribution and the correct std dev.\n",
    "\n",
    "We do see a difference between our graph and the pub's graph in the advanced game, which gives us an idea about why we have an advantage:\n",
    "\n",
    "Our advantage over the pub comes becaus  we are considering all the different possibilities with each sigma and then marginalizing over all of these possible sigmas.\n",
    "On the other hand, the pub is simply computing the sample standard deviation, and not considering the marginalization over sigma that will give a better overall result.\n",
    "We actually see that our method looks like the t-distribution code, which is correct. The pub is not calculating the odds correctly because they are using the fixed sigma in their pdf generation."
   ]
  },
  {
   "cell_type": "markdown",
   "metadata": {},
   "source": [
    "Let's plot now for a large number nX and see the difference between our results:"
   ]
  },
  {
   "cell_type": "code",
   "execution_count": null,
   "metadata": {},
   "outputs": [],
   "source": [
    "X = np.random.normal(loc=true_mu, scale=true_sigma, size=50) # nX = 50\n",
    "PrA_pub = probdist_advanced_pub(X, gridcols)\n",
    "posts, marginals = probdist_advanced(X, gridrows, gridcols)\n",
    "\n",
    "f, (ax1, ax2) = plt.subplots(2,1, sharey=True)  # figure consists of 2 graphs, 2 rows x 1 col\n",
    "\n",
    "ax1.semilogy(gridcols, PrA_pub, label=\"pub's t-distribution: advanced (sigma unknown)\")\n",
    "ax1.xaxis.set_ticks(gridcols)\n",
    "ax1.set(xlabel='$\\mu$', ylabel='$P(\\mu)$')\n",
    "ax1.legend(loc=\"best\")\n",
    "\n",
    "ax2.semilogy(gridcols, marginals, label=\"our estimate: advanced (sigma unknown)\")\n",
    "ax2.xaxis.set_ticks(gridcols)\n",
    "ax2.set(xlabel='$\\mu$', ylabel='$P(\\mu)$')\n",
    "ax2.legend(loc=\"best\")\n",
    "\n",
    "plt.show()"
   ]
  },
  {
   "cell_type": "markdown",
   "metadata": {},
   "source": [
    "For thislarger sample size the two graphs look more similar, because the std dev they are using becomes a more reasonable measurement for a larger sample size."
   ]
  }
 ],
 "metadata": {
  "kernelspec": {
   "display_name": "Python 3",
   "language": "python",
   "name": "python3"
  },
  "language_info": {
   "codemirror_mode": {
    "name": "ipython",
    "version": 3
   },
   "file_extension": ".py",
   "mimetype": "text/x-python",
   "name": "python",
   "nbconvert_exporter": "python",
   "pygments_lexer": "ipython3",
   "version": "3.8.3"
  }
 },
 "nbformat": 4,
 "nbformat_minor": 4
}
